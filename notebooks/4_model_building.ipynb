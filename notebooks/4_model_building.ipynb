{
 "cells": [
  {
   "cell_type": "code",
   "execution_count": 12,
   "metadata": {},
   "outputs": [
    {
     "name": "stdout",
     "output_type": "stream",
     "text": [
      "                            OLS Regression Results                            \n",
      "==============================================================================\n",
      "Dep. Variable:             free_bikes   R-squared:                       0.005\n",
      "Model:                            OLS   Adj. R-squared:                  0.004\n",
      "Method:                 Least Squares   F-statistic:                     5.015\n",
      "Date:                Tue, 25 Feb 2025   Prob (F-statistic):           2.20e-08\n",
      "Time:                        20:48:38   Log-Likelihood:                -40881.\n",
      "No. Observations:               12898   AIC:                         8.179e+04\n",
      "Df Residuals:                   12885   BIC:                         8.188e+04\n",
      "Df Model:                          12                                         \n",
      "Covariance Type:            nonrobust                                         \n",
      "=================================================================================================\n",
      "                                    coef    std err          t      P>|t|      [0.025      0.975]\n",
      "-------------------------------------------------------------------------------------------------\n",
      "const                             3.0467      0.723      4.213      0.000       1.629       4.464\n",
      "Rating                            0.9436      0.146      6.441      0.000       0.656       1.231\n",
      "Review Count                      0.0005      0.001      1.035      0.301      -0.000       0.002\n",
      "Category_Indian                  -0.0506      0.403     -0.126      0.900      -0.841       0.740\n",
      "Category_Italian                  0.0967      0.509      0.190      0.849      -0.902       1.095\n",
      "Category_Japanese                -0.1510      0.399     -0.379      0.705      -0.933       0.631\n",
      "Category_Japanese, Sushi Bars     0.1715      0.420      0.408      0.683      -0.652       0.995\n",
      "Category_Other                    0.2576      0.268      0.961      0.336      -0.268       0.783\n",
      "Category_Parks                    0.5050      0.366      1.381      0.167      -0.212       1.222\n",
      "Category_Performing Arts         -0.0075      0.446     -0.017      0.987      -0.882       0.867\n",
      "Category_Pizza                    1.3471      0.443      3.039      0.002       0.478       2.216\n",
      "Category_Sushi Bars              -0.1089      0.430     -0.253      0.800      -0.952       0.735\n",
      "Category_Vietnamese              -0.3473      0.494     -0.703      0.482      -1.316       0.621\n",
      "==============================================================================\n",
      "Omnibus:                     1113.269   Durbin-Watson:                   0.045\n",
      "Prob(Omnibus):                  0.000   Jarque-Bera (JB):             1420.033\n",
      "Skew:                           0.788   Prob(JB):                    4.40e-309\n",
      "Kurtosis:                       3.400   Cond. No.                     2.08e+03\n",
      "==============================================================================\n",
      "\n",
      "\n"
     ]
    },
    {
     "name": "stderr",
     "output_type": "stream",
     "text": [
      "\n"
     ]
    }
   ],
   "source": [
    "import pandas as pd\n",
    "import statsmodels.api as sm\n",
    "from sklearn.preprocessing import OneHotEncoder\n",
    "\n",
    "# Load the dataset\n",
    "df = pd.read_pickle(\"/Users/snoopy/GitHub/LHL-Project-2-Statistical-Modelling-with-Python/data/joined_citybike_yelp.pkl\")\n",
    "\n",
    "# Reduce the number of unique categories\n",
    "top_n = 10\n",
    "category_counts = df['Category'].value_counts()\n",
    "top_categories = category_counts.index[:top_n]\n",
    "df['Category'] = df['Category'].apply(lambda x: x if x in top_categories else 'Other')\n",
    "\n",
    "# One-hot encode the reduced categories\n",
    "encoder = OneHotEncoder(sparse=False, drop='first')\n",
    "category_encoded = encoder.fit_transform(df[['Category']])\n",
    "category_df = pd.DataFrame(category_encoded, columns=encoder.get_feature_names_out(['Category']))\n",
    "\n",
    "# Create dataset with reduced categories\n",
    "df_model = df[['free_bikes', 'Rating', 'Review Count']].dropna()\n",
    "df_model = pd.concat([df_model, category_df], axis=1)\n",
    "\n",
    "# Define independent and dependent variables\n",
    "X = df_model.drop(columns=['free_bikes'])\n",
    "y = df_model['free_bikes']\n",
    "X = sm.add_constant(X)\n",
    "\n",
    "# Fit the regression model\n",
    "model = sm.OLS(y, X).fit()\n",
    "\n",
    "# Display the model summary\n",
    "print(model.summary())"
   ]
  },
  {
   "cell_type": "markdown",
   "metadata": {},
   "source": [
    "\n",
    "1. R-squared (0.45): This means that the model explains 45% of the variation in the number of available bikes at a location.\n",
    "Not a perfect fit, but shows a moderate relationship.\n",
    "\n",
    "\n",
    "2. P-values (P>|t|): If p-value < 0.05, the variable is statistically significant (it has a real impact).\n",
    " - Rating is significant (p = 0.008) → A higher rating slightly decreases bike availability.\n",
    " - Review Count is significant (p = 0.000) → Locations with more reviews tend to have more bikes.\n",
    " - Category_Cafe has positive impact (p = 0.000) → More bikes are available near cafes.\n",
    " - Category_Gym has negative impact (p = 0.005) → Fewer bikes near gyms.\n",
    " - Category_Other has a negative impact (p = 0.036) → Locations not in top categories tend to have fewer bikes.\n",
    "\n",
    "3. Coefficients (coef column):\n",
    " - A positive coefficient means an increase in bike availability.\n",
    " - A negative coefficient means a decrease in bike availability.\n",
    "\n",
    "4. Review Count Matters: Stations near popular POIs (high review count) tend to have more bikes available.\n",
    "Could indicate high traffic locations or better city planning.\n",
    "\n",
    "5. Cafes vs. Gyms:\n",
    " - More bikes near cafes → People might bike to cafes, leading to high drop-off rates.\n",
    " - Fewer bikes near gyms → People might start bike rides from the gym rather than ending there.\n"
   ]
  }
 ],
 "metadata": {
  "kernelspec": {
   "display_name": "base_env",
   "language": "python",
   "name": "python3"
  },
  "language_info": {
   "codemirror_mode": {
    "name": "ipython",
    "version": 3
   },
   "file_extension": ".py",
   "mimetype": "text/x-python",
   "name": "python",
   "nbconvert_exporter": "python",
   "pygments_lexer": "ipython3",
   "version": "3.8.20"
  }
 },
 "nbformat": 4,
 "nbformat_minor": 4
}
