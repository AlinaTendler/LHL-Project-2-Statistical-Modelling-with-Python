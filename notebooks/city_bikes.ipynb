{
 "cells": [
  {
   "cell_type": "markdown",
   "metadata": {},
   "source": [
    "# CityBikes"
   ]
  },
  {
   "cell_type": "markdown",
   "metadata": {},
   "source": [
    "Send a request to CityBikes for the city of your choice. "
   ]
  },
  {
   "cell_type": "code",
   "execution_count": 10,
   "metadata": {},
   "outputs": [
    {
     "data": {
      "text/plain": [
       "[{'id': 'mobibikes',\n",
       "  'name': 'Mobi',\n",
       "  'location': {'latitude': 49.2827,\n",
       "   'longitude': -123.1207,\n",
       "   'city': 'Vancouver',\n",
       "   'country': 'CA'},\n",
       "  'href': '/v2/networks/mobibikes',\n",
       "  'company': ['Vanncouver Bike Share Inc.',\n",
       "   'CycleHop LLC',\n",
       "   'City of Vancouver',\n",
       "   'Shaw Communications Inc.',\n",
       "   'Fifteen'],\n",
       "  'gbfs_href': 'https://vancouver-gbfs.smoove.pro/gbfs/2/gbfs.json'}]"
      ]
     },
     "execution_count": 10,
     "metadata": {},
     "output_type": "execute_result"
    }
   ],
   "source": [
    "import requests\n",
    "import pandas as pd\n",
    "\n",
    "citybike_networks = requests.get(\"http://api.citybik.es/v2/networks\").json()\n",
    "#print(citybike_networks)\n",
    "\n",
    "def get_city_data(city):\n",
    "    citybike_networks = requests.get(\"http://api.citybik.es/v2/networks\").json()\n",
    "\n",
    "    list_of_dicts = []\n",
    "    for citybike_dicts in citybike_networks['networks']:\n",
    "        new_city = citybike_dicts['location']['city']\n",
    "        if new_city.lower() == city.lower():\n",
    "            list_of_dicts.append(citybike_dicts)\n",
    "    \n",
    "    return(list_of_dicts)\n",
    "\n",
    "get_city_data(\"Vancouver\")"
   ]
  },
  {
   "cell_type": "markdown",
   "metadata": {},
   "source": [
    "Parse through the response to get the hrefs (networks) to parse. "
   ]
  },
  {
   "cell_type": "code",
   "execution_count": 11,
   "metadata": {},
   "outputs": [
    {
     "data": {
      "text/plain": [
       "[{'id': '00fa94ad698dc4a9e4d708d6fd32f294',\n",
       "  'name': 'Chilco & Barclay',\n",
       "  'latitude': 49.291909,\n",
       "  'longitude': -123.140713,\n",
       "  'timestamp': '2025-02-21T09:08:21.565238Z',\n",
       "  'free_bikes': 13,\n",
       "  'empty_slots': 5,\n",
       "  'extra': {'uid': '0092',\n",
       "   'renting': True,\n",
       "   'returning': True,\n",
       "   'last_updated': 1740128706,\n",
       "   'slots': 18,\n",
       "   'normal_bikes': 9,\n",
       "   'ebikes': 4,\n",
       "   'has_ebikes': True}},\n",
       " {'id': '012d3e06901cc222b1c2cf0a2ace3a29',\n",
       "  'name': 'St George & Broadway',\n",
       "  'latitude': 49.262321,\n",
       "  'longitude': -123.09306,\n",
       "  'timestamp': '2025-02-21T09:08:21.604401Z',\n",
       "  'free_bikes': 1,\n",
       "  'empty_slots': 13,\n",
       "  'extra': {'uid': '0248',\n",
       "   'renting': True,\n",
       "   'returning': True,\n",
       "   'last_updated': 1740128022,\n",
       "   'slots': 14,\n",
       "   'normal_bikes': 1,\n",
       "   'ebikes': 0,\n",
       "   'has_ebikes': True}}]"
      ]
     },
     "execution_count": 11,
     "metadata": {},
     "output_type": "execute_result"
    }
   ],
   "source": [
    "def bike_stations_of_city(city):\n",
    "\n",
    "    stations = get_city_data(city)\n",
    "    if not stations:\n",
    "        print(\"Error: No stations in the city\")\n",
    "        return None\n",
    "    \n",
    "    hrefs = stations[0]['href']\n",
    "    url = \"http://api.citybik.es{}\".format(hrefs)\n",
    "\n",
    "    return requests.get(url).json()['network']['stations']\n",
    "\n",
    "vancouver_stations = bike_stations_of_city(\"Vancouver\")\n",
    "vancouver_stations[0:2]"
   ]
  },
  {
   "cell_type": "markdown",
   "metadata": {},
   "source": [
    "Parse through the response to get the details you want for the bike stations in that city (latitude, longitude, number of bikes) and put your parsed results into a DataFrame."
   ]
  },
  {
   "cell_type": "code",
   "execution_count": 12,
   "metadata": {},
   "outputs": [],
   "source": [
    "def get_stations_details(city):\n",
    "\n",
    "    stations_details = bike_stations_of_city(city)\n",
    "\n",
    "    station_list = []\n",
    "    for details in stations_details:\n",
    "\n",
    "        a_dict = {\n",
    "            'latitude': details ['latitude'],\n",
    "            'longitude': details ['longitude'],\n",
    "            'free_bikes': details ['free_bikes'],\n",
    "            'empty_slots': details ['empty_slots'],\n",
    "            'slots': details ['extra'] ['slots'],\n",
    "            'uid': details ['extra']['uid'],\n",
    "        }\n",
    "    \n",
    "        station_list.append(a_dict)\n",
    "    \n",
    "    return pd.DataFrame(station_list)\n",
    "\n",
    "vancouver_stations_df = get_stations_details(\"Vancouver\")\n",
    "vancouver_stations_df.to_pickle(\"vancouver_stations.pkl\")\n",
    "vancouver_stations_df"
   ]
  }
 ],
 "metadata": {
  "kernelspec": {
   "display_name": "base_env",
   "language": "python",
   "name": "python3"
  },
  "language_info": {
   "codemirror_mode": {
    "name": "ipython",
    "version": 3
   },
   "file_extension": ".py",
   "mimetype": "text/x-python",
   "name": "python",
   "nbconvert_exporter": "python",
   "pygments_lexer": "ipython3",
   "version": "3.8.20"
  }
 },
 "nbformat": 4,
 "nbformat_minor": 4
}
