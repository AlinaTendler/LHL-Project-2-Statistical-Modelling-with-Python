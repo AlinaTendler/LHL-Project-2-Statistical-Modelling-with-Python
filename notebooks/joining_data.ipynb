{
 "cells": [
  {
   "cell_type": "markdown",
   "metadata": {},
   "source": [
    "Join the data from Part 1 with the data from Part 2 to create a new dataframe."
   ]
  },
  {
   "cell_type": "code",
   "execution_count": null,
   "metadata": {},
   "outputs": [],
   "source": [
    "#rename latitude and longitude columns in citybike dataframe\n",
    "vancouver_stations_df.rename(columns={\"latitude\": \"Latitude\", \"longitude\": \"Longitude\"}, inplace=True)\n",
    "\n",
    "#join yelp and citybike dataframes\n",
    "citybike_yelp_df = pd.merge(vancouver_stations_df, yelp_places_df, on=[\"Latitude\", \"Longitude\"], how=\"outer\")\n",
    "citybike_yelp_df"
   ]
  },
  {
   "cell_type": "markdown",
   "metadata": {},
   "source": [
    "Provide a visualization that you used as part of your EDA process. Explain the initial pattern or relationship you discoved through this visualization. "
   ]
  },
  {
   "cell_type": "code",
   "execution_count": null,
   "metadata": {},
   "outputs": [],
   "source": [
    "import matplotlib.pyplot as plt\n",
    "import seaborn as sns\n",
    "\n",
    "#distribution of ratings \n",
    "\n",
    "plt.figure(figsize=(10, 6))\n",
    "sns.histplot(citybike_yelp_df['Rating'], bins=20, kde=True, color='blue')\n",
    "plt.title('Distribution of Ratings')\n",
    "plt.xlabel('Rating')\n",
    "plt.ylabel('Frequency')\n",
    "Heatmap of Bike Stations and Nearby Placesplt.show()"
   ]
  },
  {
   "cell_type": "code",
   "execution_count": null,
   "metadata": {},
   "outputs": [],
   "source": [
    "# heatmap of bike stations and nearby places\n",
    "import folium\n",
    "from folium.plugins import HeatMap\n",
    "\n",
    "# Initialize a map\n",
    "city_map = folium.Map(location=[49.2827, -123.1207], zoom_start=13)\n",
    "\n",
    "# Add bike station and POI locations to the heatmap\n",
    "heat_data = [[Latitude, Longitude] for Latitude, Longitude in zip(citybike_yelp_df['Latitude'], citybike_yelp_df['Longitude'])]\n",
    "HeatMap(heat_data).add_to(city_map)\n",
    "\n",
    "# Show map\n",
    "city_map\n"
   ]
  },
  {
   "cell_type": "code",
   "execution_count": null,
   "metadata": {},
   "outputs": [],
   "source": [
    "#Clustered Map with Bike Stations and POIs\n",
    "\n",
    "from folium.plugins import MarkerCluster\n",
    "\n",
    "m = folium.Map(location=[49.2827, -123.1207], zoom_start=13)\n",
    "marker_cluster = MarkerCluster().add_to(m)\n",
    "\n",
    "for idx, row in citybike_yelp_df.iterrows():\n",
    "    folium.Marker([row['Latitude'], row['Longitude']], popup=row['Category']).add_to(marker_cluster)\n",
    "\n",
    "m\n"
   ]
  },
  {
   "cell_type": "code",
   "execution_count": null,
   "metadata": {},
   "outputs": [],
   "source": [
    "#histogram of available bikes\n",
    "\n",
    "sns.histplot(citybike_yelp_df['free_bikes'], kde=True, bins=20)"
   ]
  },
  {
   "cell_type": "code",
   "execution_count": null,
   "metadata": {},
   "outputs": [],
   "source": [
    "#Heatmap of Latitude and Longitude\n",
    "\n",
    "plt.figure(figsize=(12, 8))\n",
    "sns.scatterplot(x='Longitude', y='Latitude', data=citybike_yelp_df, hue='Category', palette='viridis', s=100, alpha=0.7, legend=False)\n",
    "plt.title('Map of Places (Latitude vs Longitude)')\n",
    "plt.xlabel('Longitude')\n",
    "plt.ylabel('Latitude')\n",
    "\n",
    "#plt.legend(title='Category', bbox_to_anchor=(1.05, 1), loc='upper left')\n",
    "\n",
    "plt.show()"
   ]
  },
  {
   "cell_type": "code",
   "execution_count": null,
   "metadata": {},
   "outputs": [],
   "source": [
    "#It's difficult to analyze categories, because one cell may contain multiple categories, so i will leave only the first one\n",
    "\n",
    "citybike_yelp_df['Category'] = citybike_yelp_df['Category'].apply(lambda x: x.split(',')[0] if isinstance(x, str) else x)\n",
    "\n",
    "# Plotting the scatter plot with only the first category\n",
    "plt.figure(figsize=(12, 8))\n",
    "sns.scatterplot(x='Longitude', y='Latitude', data=citybike_yelp_df, hue='Category', palette='viridis', s=100, alpha=0.7)\n",
    "plt.xlabel('')\n",
    "plt.ylabel('')\n",
    "plt.legend(title='Category', bbox_to_anchor=(1.05, 1), loc='upper left')\n",
    "plt.show()"
   ]
  },
  {
   "cell_type": "markdown",
   "metadata": {},
   "source": [
    "# Database"
   ]
  },
  {
   "cell_type": "markdown",
   "metadata": {},
   "source": [
    "Put all your results in an SQLite3 database (remember, SQLite stores its databases as files in your local machine - make sure to create your database in your project's data/ directory!)"
   ]
  },
  {
   "cell_type": "code",
   "execution_count": null,
   "metadata": {},
   "outputs": [],
   "source": [
    "import sqlite3\n",
    "import pandas as pd\n",
    "\n",
    "# create SQLite database using data from Yelp and CityBike\n",
    "\n",
    "# 1. Connect to the SQLite database (it will create a new database file if it doesn't exist)\n",
    "conn = sqlite3.connect('citybike_yelp_data.db')  \n",
    "cursor = conn.cursor()\n",
    "\n",
    "# 2. Create a table to store the data \n",
    "cursor.execute('''\n",
    "CREATE TABLE IF NOT EXISTS bike_yelp_data (\n",
    "    id INTEGER PRIMARY KEY AUTOINCREMENT,\n",
    "    Latitude REAL,\n",
    "    Longitude REAL,\n",
    "    free_bikes INTEGER,\n",
    "    empty_slots INTEGER,\n",
    "    slots INTEGER,\n",
    "    uid INTEGER,\n",
    "    Name TEXT,\n",
    "    Category TEXT,\n",
    "    Rating REAL,\n",
    "    Review_Count INTEGER,\n",
    "    Address TEXT,\n",
    "    Phone TEXT,\n",
    "    Website TEXT,\n",
    "    Price Range TEXT,\n",
    "    Photos TEXT\n",
    ")\n",
    "''')\n",
    "\n",
    "# 3. Convert DataFrame to SQL table\n",
    "citybike_yelp_df.to_sql('bike_yelp_data', conn, if_exists='replace', index=False)\n",
    "\n",
    "# 4. Commit the transaction and close the connection\n",
    "conn.commit()\n",
    "conn.close()"
   ]
  }
 ],
 "metadata": {
  "kernelspec": {
   "display_name": "Python 3",
   "language": "python",
   "name": "python3"
  },
  "language_info": {
   "codemirror_mode": {
    "name": "ipython",
    "version": 3
   },
   "file_extension": ".py",
   "mimetype": "text/x-python",
   "name": "python",
   "nbconvert_exporter": "python",
   "pygments_lexer": "ipython3",
   "version": "3.8.5"
  }
 },
 "nbformat": 4,
 "nbformat_minor": 4
}
