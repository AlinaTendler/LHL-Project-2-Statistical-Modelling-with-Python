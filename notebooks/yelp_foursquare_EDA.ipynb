{
 "cells": [
  {
   "cell_type": "code",
   "execution_count": null,
   "metadata": {},
   "outputs": [],
   "source": [
    "import requests\n",
    "import pandas as pd"
   ]
  },
  {
   "cell_type": "markdown",
   "metadata": {},
   "source": [
    "# Foursquare"
   ]
  },
  {
   "cell_type": "markdown",
   "metadata": {},
   "source": [
    "Send a request to Foursquare with a small radius (1000m) for all the bike stations in your city of choice and parse through the response to get the POI (such as restaurants, bars, etc) details you want (ratings, name, location, etc)"
   ]
  },
  {
   "cell_type": "code",
   "execution_count": null,
   "metadata": {},
   "outputs": [],
   "source": [
    "# Foursquare API key\n",
    "API_KEY = \"fsq3H9fpUTX9DVIrl/8xd9qf7wpmT5YY6VIF2rykmxe6UkI=\"\n",
    "\n",
    "# API endpoint\n",
    "url = \"https://api.foursquare.com/v3/places/search\"\n",
    "\n",
    "# Headers\n",
    "headers = {\n",
    "    \"Accept\": \"application/json\",\n",
    "    \"Authorization\": API_KEY\n",
    "}\n",
    "\n",
    "# Function to get cafes and restaurants near a given latitude and longitude\n",
    "def get_nearby_places(lat, lon, radius=1000, limit=50):\n",
    "    params = {\n",
    "        \"ll\": f\"{lat},{lon}\",\n",
    "        \"categories\": \"13032,13065,10058,10069,10059,10063,16007,16018,16038\",  # 13032 = Cafes, 13065 = Restaurants, 10058 = Amusement parks, 10069 = Outdoor Sculpture, 10059 = Street Art, 10063 = Hockey Stadium, 16007 = Landmarks and Outdoors > Building / Structure, 16018 = Landmarks and Outdoors > Harbor / Marina, 16038 = Landmarks and Outdoors > Park > State / Provincial Park\n",
    "        \"radius\": radius,  # Search radius in meters\n",
    "        \"limit\": limit  # Number of results to return\n",
    "    }\n",
    "    \n",
    "    response = requests.get(url, headers=headers, params=params)\n",
    "\n",
    "    if response.status_code == 200:\n",
    "        data = response.json()\n",
    "        places = []\n",
    "        for place in data.get(\"results\", []):\n",
    "\n",
    "            # Extract category information\n",
    "            categories = place.get(\"categories\", [])\n",
    "            \n",
    "            if categories:  # If categories exist\n",
    "                category_names = \", \".join([str(cat.get(\"name\", \"Unknown\")) for cat in categories])\n",
    "                category_ids = \", \".join([str(cat.get(\"id\", \"N/A\")) for cat in categories])  # Convert IDs to strings\n",
    "            else:  # If no categories are found\n",
    "                category_names = \"Unknown\"\n",
    "                category_ids = \"N/A\"\n",
    "            \n",
    "            # Store place info\n",
    "            place_info = {\n",
    "                \"Latitude\": lat,\n",
    "                \"Longitude\": lon,\n",
    "                \"Name\": place.get(\"name\"),\n",
    "                \"Category Names\": category_names,  \n",
    "                \"Category IDs\": category_ids,\n",
    "\n",
    "            # Additional place info to compare later with Yelp data    \n",
    "                \"Telephone\": data.get(\"tel\", \"Not available\"),\n",
    "                \"Website\": data.get(\"website\", \"Not available\"),\n",
    "                \"Rating\": data.get(\"rating\", \"Not available\"),\n",
    "                \"Description\": data.get(\"description\", \"No description available\"),\n",
    "                \"Photos\": data.get(\"photos\", []),\n",
    "                \"Hours\": data.get(\"hours\", {}).get(\"regular\", \"Not available\"),\n",
    "            }\n",
    "            \n",
    "            places.append(place_info)\n",
    "\n",
    "        return places\n",
    "    else:\n",
    "        print(f\"Error {response.status_code}: {response.text}\")\n",
    "        return []\n",
    "   \n"
   ]
  },
  {
   "cell_type": "markdown",
   "metadata": {},
   "source": [
    "Put your parsed results into a DataFrame"
   ]
  },
  {
   "cell_type": "code",
   "execution_count": null,
   "metadata": {},
   "outputs": [],
   "source": [
    "# DataFrame with latitudes and longitudes\n",
    "df_locations = vancouver_stations_df[['latitude','longitude']]\n",
    "\n",
    "# Store results in a new DataFrame\n",
    "all_places = []\n",
    "for _, row in df_locations.iterrows():\n",
    "    places = get_nearby_places(row[\"latitude\"], row[\"longitude\"])\n",
    "    all_places.extend(places)\n",
    "  \n",
    "foursquare_places_df = pd.DataFrame(all_places)\n",
    "\n",
    "# Return the results\n",
    "foursquare_places_df"
   ]
  },
  {
   "cell_type": "markdown",
   "metadata": {},
   "source": [
    "# Yelp"
   ]
  },
  {
   "cell_type": "markdown",
   "metadata": {},
   "source": [
    "Send a request to Yelp with a small radius (1000m) for all the bike stations in your city of choice and parse through the response to get the POI (such as restaurants, bars, etc) details you want (ratings, name, location, etc)"
   ]
  },
  {
   "cell_type": "code",
   "execution_count": null,
   "metadata": {},
   "outputs": [],
   "source": [
    "# Yelp API Key\n",
    "API_KEY = '3ELWRKKYGJ_KUV1vZrmnzOxFwnOaika8NQLuRbUq6IlXE8kz6fbZ2jbRrXJqglQNSz6Lxe8Rh2kJHRkrsU-nLGqUvP4w4JLs0LwRTvFIbFm9r7u-hgr6rV56C4myZ3Yx'  # Replace with your Yelp API key\n",
    "\n",
    "# Yelp API endpoint\n",
    "url = 'https://api.yelp.com/v3/businesses/search'\n",
    "\n",
    "# Yelp API headers\n",
    "headers = {\n",
    "    'Authorization': f'Bearer 3ELWRKKYGJ_KUV1vZrmnzOxFwnOaika8NQLuRbUq6IlXE8kz6fbZ2jbRrXJqglQNSz6Lxe8Rh2kJHRkrsU-nLGqUvP4w4JLs0LwRTvFIbFm9r7u-hgr6rV56C4myZ3Yx'\n",
    "}\n",
    "\n",
    "# Function to get nearby businesses (cafes, restaurants, and points of interest)\n",
    "def get_yelp_places(lat, lon, radius=1000, limit=50):\n",
    "    # Expanded categories to include POIs (Landmarks, Parks, Museums, Art Galleries, Theaters, etc.)\n",
    "    categories = 'cafes,restaurants,landmarks,parks,museums,artgalleries,theater'\n",
    "    \n",
    "    params = {\n",
    "        'latitude': lat,\n",
    "        'longitude': lon,\n",
    "        'radius': radius,\n",
    "        'limit': limit,\n",
    "        'categories': categories,  # Expanded categories list for POIs\n",
    "        'sort_by': 'rating'  # Sorting by rating (optional)\n",
    "    }\n",
    "\n",
    "    response = requests.get(url, headers=headers, params=params)\n",
    "\n",
    "    if response.status_code == 200:\n",
    "        data = response.json()\n",
    "        places = []\n",
    "\n",
    "        for business in data.get(\"businesses\", []):\n",
    "            # Ensure categories are iterable and handle missing or empty categories\n",
    "            categories = business.get(\"categories\", [])\n",
    "            if isinstance(categories, list) and categories:\n",
    "                # If categories is a list and not empty, join the titles\n",
    "                category_names = \", \".join([category.get(\"title\", \"Unknown\") for category in categories if isinstance(category, dict)])\n",
    "            else:\n",
    "                # If categories is not a list or is empty, use \"Unknown\"\n",
    "                category_names = \"Unknown\"\n",
    "            \n",
    "            # Handle address properly: check if it's iterable, otherwise treat it as a string\n",
    "            address = business.get(\"location\", {}).get(\"address1\", \"\")\n",
    "            if isinstance(address, list):\n",
    "                address = \", \".join(address)\n",
    "            \n",
    "            place_info = {\n",
    "                \"Latitude\": lat,\n",
    "                \"Longitude\": lon,\n",
    "                \"Name\": business.get(\"name\"),\n",
    "                \"Category\": category_names,  # Join categories into a string\n",
    "                \"Rating\": business.get(\"rating\"),\n",
    "                \"Review Count\": business.get(\"review_count\"),\n",
    "                \"Address\": address,  # Handle address properly\n",
    "                \"Phone\": business.get(\"phone\", \"Not available\"),\n",
    "                \"Website\": business.get(\"url\", \"Not available\"),\n",
    "                \"Price Range\": business.get(\"price\", \"Not available\"),\n",
    "                \"Photos\": business.get(\"image_url\", \"Not available\"),\n",
    "            }\n",
    "\n",
    "            places.append(place_info)\n",
    "\n",
    "        return places\n",
    "    else:\n",
    "        print(f\"Error {response.status_code}: {response.text}\")\n",
    "        return []\n"
   ]
  },
  {
   "cell_type": "markdown",
   "metadata": {},
   "source": [
    "Put your parsed results into a DataFrame"
   ]
  },
  {
   "cell_type": "code",
   "execution_count": null,
   "metadata": {},
   "outputs": [],
   "source": [
    "# DataFrame with latitudes and longitudes (e.g., from Foursquare results or your own data)\n",
    "df_locations = vancouver_stations_df[['latitude', 'longitude']]  # Example DataFrame containing latitudes and longitudes\n",
    "\n",
    "# Store Yelp results in a new DataFrame\n",
    "all_yelp_places = []\n",
    "for _, row in df_locations.iterrows():\n",
    "    places = get_yelp_places(row[\"latitude\"], row[\"longitude\"])\n",
    "    all_yelp_places.extend(places)\n",
    "\n",
    "yelp_places_df = pd.DataFrame(all_yelp_places)\n",
    "\n",
    "# Return the results (Yelp data)\n",
    "yelp_places_df"
   ]
  },
  {
   "cell_type": "markdown",
   "metadata": {},
   "source": [
    "# Comparing Results"
   ]
  },
  {
   "cell_type": "markdown",
   "metadata": {},
   "source": [
    "Which API provided you with more complete data? Provide an explanation. "
   ]
  },
  {
   "cell_type": "code",
   "execution_count": null,
   "metadata": {},
   "outputs": [],
   "source": [
    "#comparing foursquare and yelp data\n",
    "\n",
    "#count places from foursquare\n",
    "num_places_4sqr = foursquare_places_df.shape[0] \n",
    "print(f\"Total places collected from Foursquare: {num_places_4sqr}\")\n",
    "\n",
    "#count places from yelp\n",
    "num_places_yelp = yelp_places_df.shape[0]  \n",
    "print(f\"Total places collected from Yelp: {num_places_yelp}\")\n",
    "\n",
    "#count how many telephones were collected for foursquare places\n",
    "num_telephones_4sqr = (foursquare_places_df[\"Telephone\"] != \"Not available\").sum()\n",
    "print(f\"Total places with a telephone number: {num_telephones_4sqr}\")\n",
    "\n",
    "#count how many telephones were collected for yelp places\n",
    "num_telephones_yelp = (yelp_places_df[\"Phone\"] != \"Not available\").sum()\n",
    "print(f\"Total places with a telephone number from Yelp: {num_telephones_yelp}\")\n",
    "\n",
    "#count how many ratings were collected for foursquare places\n",
    "num_ratings_4sqr = (foursquare_places_df[\"Rating\"] != \"Not available\").sum()\n",
    "print(f\"Total places with a rating from Foursquare: {num_ratings_4sqr}\")\n",
    "\n",
    "#count how many ratings were collected for yelp places\n",
    "num_ratings_yelp = yelp_places_df[\"Rating\"].notna().sum()\n",
    "print(f\"Total places with a rating from Yelp: {num_ratings_yelp}\")\n",
    "\n",
    "#count how many photos were collected for foursquare places\n",
    "num_photos_4sqr = foursquare_places_df[foursquare_places_df[\"Photos\"].apply(lambda x: isinstance(x, list) and len(x) > 0)].shape[0]\n",
    "print(f\"Total places with at least one photo from Foursquare: {num_photos_4sqr}\")\n",
    "\n",
    "#count how many photos were collected for yelp places\n",
    "num_photos_yelp = (yelp_places_df[\"Photos\"] != \"Not available\").sum()\n",
    "print(f\"Total places with at least one photo from Yelp: {num_photos_yelp}\")"
   ]
  },
  {
   "cell_type": "markdown",
   "metadata": {},
   "source": [
    "#Total places collected from Foursquare: 1703\n",
    "#Total places collected from Yelp: 3134\n",
    "#Total places with a telephone number: 0\n",
    "#Total places with a telephone number from Yelp: 3134\n",
    "#Total places with a rating from Foursquare: 0\n",
    "#Total places with a rating from Yelp: 3134\n",
    "#Total places with at least one photo from Foursquare: 0\n",
    "#Total places with at least one photo from Yelp: 3134"
   ]
  }
 ],
 "metadata": {
  "kernelspec": {
   "display_name": "Python 3",
   "language": "python",
   "name": "python3"
  },
  "language_info": {
   "codemirror_mode": {
    "name": "ipython",
    "version": 3
   },
   "file_extension": ".py",
   "mimetype": "text/x-python",
   "name": "python",
   "nbconvert_exporter": "python",
   "pygments_lexer": "ipython3",
   "version": "3.8.5"
  }
 },
 "nbformat": 4,
 "nbformat_minor": 4
}
